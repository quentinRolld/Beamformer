{
 "cells": [
  {
   "cell_type": "markdown",
   "id": "571d19d7-4776-4ef5-b494-b3f6f7fa14a5",
   "metadata": {},
   "source": [
    "# Advanced Audio Processing, Part 1: Acoustics and Sound Localization"
   ]
  },
  {
   "cell_type": "markdown",
   "id": "65345640-7faf-4c3f-ae7d-7a1ca84c7763",
   "metadata": {},
   "source": [
    "This is a test notebook to check if your installation is working. Please execute the following cells and check if their are executing correctly. If not, please contact your teacher to try to debug your configuration before the first practical session."
   ]
  },
  {
   "cell_type": "code",
   "execution_count": 1,
   "id": "421d6571-6e49-4b0e-9f74-364592d9f3d6",
   "metadata": {},
   "outputs": [],
   "source": [
    "%matplotlib widget\n",
    "import matplotlib.pyplot as plt\n",
    "import numpy as np\n",
    "from client import array"
   ]
  },
  {
   "cell_type": "markdown",
   "id": "4023f96e-6e59-4068-933e-ecc7f6b2ee81",
   "metadata": {},
   "source": [
    "### When working with the acquisition system"
   ]
  },
  {
   "cell_type": "code",
   "execution_count": 2,
   "id": "b3e6a98a-c744-4ac3-919c-c9e539ad9bad",
   "metadata": {},
   "outputs": [
    {
     "data": {
      "application/vnd.jupyter.widget-view+json": {
       "model_id": "778abedb937949d5bd21fe664011eb15",
       "version_major": 2,
       "version_minor": 0
      },
      "text/plain": [
       "VBox(children=(HBox(children=(Text(value='10.3.141.1', continuous_update=False, description='Adresse IP:'), Te…"
      ]
     },
     "metadata": {},
     "output_type": "display_data"
    }
   ],
   "source": [
    "antenne=array('server')"
   ]
  },
  {
   "cell_type": "markdown",
   "id": "c35133e9-ff01-41c0-a87b-6eebc21909a1",
   "metadata": {},
   "source": [
    "### When working on recorded files"
   ]
  },
  {
   "cell_type": "code",
   "execution_count": 3,
   "id": "3b17b051-8baa-4345-8d11-cef5695979fe",
   "metadata": {},
   "outputs": [
    {
     "data": {
      "application/vnd.jupyter.widget-view+json": {
       "model_id": "5ad29879573e471f8585ee2fe8a22623",
       "version_major": 2,
       "version_minor": 0
      },
      "text/plain": [
       "VBox(children=(HBox(children=(FileChooser(path='/Users/sylar/Documents/Enseignements/M2 Perception Audio/TP/Co…"
      ]
     },
     "metadata": {},
     "output_type": "display_data"
    }
   ],
   "source": [
    "antenne=array('play')"
   ]
  },
  {
   "cell_type": "markdown",
   "id": "478e99f2-63f5-4475-9cc4-b245a57564a2",
   "metadata": {},
   "source": [
    "### Get parameters and read data"
   ]
  },
  {
   "cell_type": "code",
   "execution_count": null,
   "id": "cc28ea3f-2c92-40a7-ae36-70c4f81e38cc",
   "metadata": {},
   "outputs": [],
   "source": [
    "Fs = antenne.fs\n",
    "BLK = antenne.blocksize\n",
    "\n",
    "# Read one buffer\n",
    "m = antenne.read()"
   ]
  }
 ],
 "metadata": {
  "kernelspec": {
   "display_name": "Python 3 (ipykernel)",
   "language": "python",
   "name": "python3"
  },
  "language_info": {
   "codemirror_mode": {
    "name": "ipython",
    "version": 3
   },
   "file_extension": ".py",
   "mimetype": "text/x-python",
   "name": "python",
   "nbconvert_exporter": "python",
   "pygments_lexer": "ipython3",
   "version": "3.12.0"
  }
 },
 "nbformat": 4,
 "nbformat_minor": 5
}
